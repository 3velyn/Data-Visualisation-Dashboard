{
 "cells": [
  {
   "cell_type": "code",
   "execution_count": 1,
   "id": "aae2ae9a",
   "metadata": {},
   "outputs": [],
   "source": [
    "from pandas_datareader import data\n",
    "from bokeh.plotting import figure, show, output_file\n",
    "from datetime import datetime as dt"
   ]
  },
  {
   "cell_type": "code",
   "execution_count": null,
   "id": "e95017b3",
   "metadata": {},
   "outputs": [],
   "source": [
    "df = data.DataReader(name='GOOG', data_source='')"
   ]
  }
 ],
 "metadata": {
  "kernelspec": {
   "display_name": "Python 3 (ipykernel)",
   "language": "python",
   "name": "python3"
  },
  "language_info": {
   "codemirror_mode": {
    "name": "ipython",
    "version": 3
   },
   "file_extension": ".py",
   "mimetype": "text/x-python",
   "name": "python",
   "nbconvert_exporter": "python",
   "pygments_lexer": "ipython3",
   "version": "3.9.7"
  }
 },
 "nbformat": 4,
 "nbformat_minor": 5
}
